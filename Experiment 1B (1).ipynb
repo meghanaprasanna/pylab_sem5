{
 "cells": [
  {
   "cell_type": "markdown",
   "metadata": {},
   "source": [
    "### Meghana Prasanna\n",
    "### 18BTRCR027"
   ]
  },
  {
   "cell_type": "markdown",
   "metadata": {},
   "source": [
    "#### 1.\tWrite and run a program\n",
    "#### b.\tTo elaborate mathematical operations such as addition, subtraction, multiplication, division, modulo, and power; also explore the operator precedence"
   ]
  },
  {
   "cell_type": "code",
   "execution_count": 2,
   "metadata": {},
   "outputs": [
    {
     "name": "stdout",
     "output_type": "stream",
     "text": [
      "Enter the first number: 10\n",
      "Enter the second number: 3\n",
      "Sum of 10 and 3 is 13\n",
      "Difference of 10 and 3 is 7\n",
      "Product of 10 and 3 is 30\n",
      "10 divided by 3 is 3.3333333333333335\n",
      "10 remainder 3 is 1\n",
      "10 power 3 is 1000\n",
      "10 floor division 3 is 3\n"
     ]
    }
   ],
   "source": [
    "a=int(input(\"Enter the first number: \"))\n",
    "b=int(input(\"Enter the second number: \"))\n",
    "sum=a+b\n",
    "diff=a-b\n",
    "prod=a*b\n",
    "div=a/b\n",
    "rem=a%b\n",
    "pow=a**b\n",
    "flr=a//b\n",
    "print(\"Sum of {0} and {1} is {2}\".format(a,b,sum))\n",
    "print(\"Difference of {0} and {1} is {2}\".format(a,b,diff))\n",
    "print(\"Product of {0} and {1} is {2}\".format(a,b,prod))\n",
    "print(\"{0} divided by {1} is {2}\".format(a,b,div))\n",
    "print(\"{0} remainder {1} is {2}\".format(a,b,rem))\n",
    "print(\"{0} power {1} is {2}\".format(a,b,pow))\n",
    "print(\"{0} floor division {1} is {2}\".format(a,b,flr))"
   ]
  },
  {
   "cell_type": "markdown",
   "metadata": {},
   "source": [
    "#### explore the operator precedence"
   ]
  },
  {
   "cell_type": "code",
   "execution_count": 3,
   "metadata": {},
   "outputs": [
    {
     "name": "stdout",
     "output_type": "stream",
     "text": [
      "value of (a+b)*c/d is 60.0\n",
      "value of ((a+b)*c)/d is 60.0\n",
      "value of (a+b)*(c/d) is 60.0\n"
     ]
    }
   ],
   "source": [
    "a=20\n",
    "b=10\n",
    "c=10\n",
    "d=5\n",
    "e=0\n",
    "e=(a+b)*c/d\n",
    "print(\"value of (a+b)*c/d is\",e)\n",
    "e=((a+b)*c)/d\n",
    "print(\"value of ((a+b)*c)/d is\",e)\n",
    "e=(a+b)*(c/d)\n",
    "print(\"value of (a+b)*(c/d) is\",e)"
   ]
  }
 ],
 "metadata": {
  "kernelspec": {
   "display_name": "Python 3",
   "language": "python",
   "name": "python3"
  },
  "language_info": {
   "codemirror_mode": {
    "name": "ipython",
    "version": 3
   },
   "file_extension": ".py",
   "mimetype": "text/x-python",
   "name": "python",
   "nbconvert_exporter": "python",
   "pygments_lexer": "ipython3",
   "version": "3.8.3"
  }
 },
 "nbformat": 4,
 "nbformat_minor": 4
}
