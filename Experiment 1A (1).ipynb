{
 "cells": [
  {
   "cell_type": "markdown",
   "metadata": {},
   "source": [
    "## Meghana Prasanna\n",
    "## 18BTRCR027"
   ]
  },
  {
   "cell_type": "markdown",
   "metadata": {},
   "source": [
    "#### 1.\tWrite and run a program\n",
    "#### a.\tTo elaborate variables and their data types such as int, float, boolean, string, list, set, dictionary and tuples"
   ]
  },
  {
   "cell_type": "code",
   "execution_count": 1,
   "metadata": {},
   "outputs": [
    {
     "name": "stdout",
     "output_type": "stream",
     "text": [
      "value of a= 3\n",
      "type of a= <class 'int'>\n",
      "value of b= 4.0\n",
      "type of = <class 'float'>\n",
      "value of c= True\n",
      "type of c= <class 'bool'>\n",
      "value of d= hello python\n",
      "type of d= <class 'str'>\n",
      "value of e= [4, 3.0, 'python mania', 'harry']\n",
      "type of e= <class 'list'>\n",
      "value of f= {1, 2, 4, 5, 7}\n",
      "type of f= <class 'set'>\n",
      "value of g= (4, 3.0, 'python mania', 'harry')\n",
      "type of g= <class 'tuple'>\n",
      "value of h= {'a': 4.5, 'python': 'language'}\n",
      "type of h= <class 'dict'>\n"
     ]
    }
   ],
   "source": [
    "a=3\n",
    "b=4.0\n",
    "c=True\n",
    "d=\"hello python\"\n",
    "e=[4,3.0,\"python mania\",\"harry\"]\n",
    "f={4,4,2,1,2,5,7,4}\n",
    "g=(4,3.0,\"python mania\",\"harry\")\n",
    "h={\"a\":4.5,\"python\":\"language\"}\n",
    "print(\"value of a=\",a)\n",
    "print(\"type of a=\",type(a))\n",
    "print(\"value of b=\",b)\n",
    "print(\"type of =\",type(b))\n",
    "print(\"value of c=\",c)\n",
    "print(\"type of c=\",type(c))\n",
    "print(\"value of d=\",d)\n",
    "print(\"type of d=\",type(d))\n",
    "print(\"value of e=\",e)\n",
    "print(\"type of e=\",type(e))\n",
    "print(\"value of f=\",f)\n",
    "print(\"type of f=\",type(f))\n",
    "print(\"value of g=\",g)\n",
    "print(\"type of g=\",type(g))\n",
    "print(\"value of h=\",h)\n",
    "print(\"type of h=\",type(h))"
   ]
  },
  {
   "cell_type": "markdown",
   "metadata": {},
   "source": [
    "#### exchange of two values"
   ]
  },
  {
   "cell_type": "code",
   "execution_count": 6,
   "metadata": {},
   "outputs": [
    {
     "name": "stdout",
     "output_type": "stream",
     "text": [
      "enter the first no 4\n",
      "enter the second no 3\n",
      "before swapping a= 4 and b= 3\n",
      "after swapping a= 3 and b= 4\n"
     ]
    }
   ],
   "source": [
    "a=int(input(\"enter the first no \"))\n",
    "b=int(input(\"enter the second no \"))\n",
    "print(\"before swapping a=\", a ,\"and b=\", b)\n",
    "a,b=b,a\n",
    "print(\"after swapping a=\", a ,\"and b=\", b)"
   ]
  },
  {
   "cell_type": "code",
   "execution_count": 7,
   "metadata": {},
   "outputs": [
    {
     "name": "stdout",
     "output_type": "stream",
     "text": [
      "enter the first no 3.2\n",
      "enter the second no 4.6\n",
      "before swapping a= 3.2 and b= 4.6\n",
      "after swapping a= 4.6 and b= 3.2\n"
     ]
    }
   ],
   "source": [
    "a=float(input(\"enter the first no \"))\n",
    "b=float(input(\"enter the second no \"))\n",
    "print(\"before swapping a=\", a ,\"and b=\", b)\n",
    "a,b=b,a\n",
    "print(\"after swapping a=\", a ,\"and b=\", b)"
   ]
  },
  {
   "cell_type": "code",
   "execution_count": 8,
   "metadata": {},
   "outputs": [
    {
     "name": "stdout",
     "output_type": "stream",
     "text": [
      "enter the first string hello\n",
      "enter the second string megh\n",
      "before swapping a= hello and b= megh\n",
      "after swapping a= megh and b= hello\n"
     ]
    }
   ],
   "source": [
    "a=(input(\"enter the first string \"))\n",
    "b=(input(\"enter the second string \"))\n",
    "print(\"before swapping a=\", a ,\"and b=\", b)\n",
    "a,b=b,a\n",
    "print(\"after swapping a=\", a ,\"and b=\", b)"
   ]
  }
 ],
 "metadata": {
  "kernelspec": {
   "display_name": "Python 3",
   "language": "python",
   "name": "python3"
  },
  "language_info": {
   "codemirror_mode": {
    "name": "ipython",
    "version": 3
   },
   "file_extension": ".py",
   "mimetype": "text/x-python",
   "name": "python",
   "nbconvert_exporter": "python",
   "pygments_lexer": "ipython3",
   "version": "3.8.3"
  }
 },
 "nbformat": 4,
 "nbformat_minor": 4
}
