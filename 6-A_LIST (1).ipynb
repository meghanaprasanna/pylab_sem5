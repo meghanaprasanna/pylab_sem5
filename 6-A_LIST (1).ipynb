{
 "cells": [
  {
   "cell_type": "markdown",
   "metadata": {},
   "source": [
    "Meghana Prasanna\n",
    "18BTRCR027"
   ]
  },
  {
   "cell_type": "code",
   "execution_count": 4,
   "metadata": {},
   "outputs": [
    {
     "name": "stdout",
     "output_type": "stream",
     "text": [
      "List is: [2, 5, 6.7, 'Hi']\n"
     ]
    }
   ],
   "source": [
    "List = [2, 5, 6.7, 'Hi']\n",
    "print(\"List is:\", List)"
   ]
  },
  {
   "cell_type": "code",
   "execution_count": 7,
   "metadata": {},
   "outputs": [
    {
     "name": "stdout",
     "output_type": "stream",
     "text": [
      "Second element of the list is: 5\n"
     ]
    }
   ],
   "source": [
    "print(\"Second element of the list is:\", List[1])"
   ]
  },
  {
   "cell_type": "code",
   "execution_count": 9,
   "metadata": {},
   "outputs": [
    {
     "name": "stdout",
     "output_type": "stream",
     "text": [
      "First element in the List is:  2\n",
      "Last element in the List is:  Hi\n"
     ]
    }
   ],
   "source": [
    "print(\"First element in the List is: \", List[0])\n",
    "print(\"Last element in the List is: \", List[3])"
   ]
  },
  {
   "cell_type": "code",
   "execution_count": 13,
   "metadata": {},
   "outputs": [
    {
     "name": "stdout",
     "output_type": "stream",
     "text": [
      "First element of the list is:  i\n",
      "Elements present inside another list is:  5\n"
     ]
    }
   ],
   "source": [
    "List = ['Hi', [2, 4, 5]]\n",
    "print(\"First element of the list is: \", List[0][1])\n",
    "print(\"Elements present inside another list is: \", List[1][2])"
   ]
  },
  {
   "cell_type": "code",
   "execution_count": 14,
   "metadata": {},
   "outputs": [
    {
     "name": "stdout",
     "output_type": "stream",
     "text": [
      "Last element in the list is:  [2, 4, 5]\n"
     ]
    }
   ],
   "source": [
    "print(\"Last element in the list is: \", List[-1])"
   ]
  },
  {
   "cell_type": "code",
   "execution_count": 15,
   "metadata": {},
   "outputs": [
    {
     "name": "stdout",
     "output_type": "stream",
     "text": [
      "Elements from start to end is:  ['Hi', [2, 4, 5]]\n"
     ]
    }
   ],
   "source": [
    "print(\"Elements from start to end is: \", List[:])"
   ]
  },
  {
   "cell_type": "code",
   "execution_count": 18,
   "metadata": {},
   "outputs": [
    {
     "name": "stdout",
     "output_type": "stream",
     "text": [
      "Hi\n",
      "[2, 4, 5]\n"
     ]
    }
   ],
   "source": [
    "for ele in List:\n",
    "     print(ele)"
   ]
  },
  {
   "cell_type": "code",
   "execution_count": 20,
   "metadata": {},
   "outputs": [
    {
     "name": "stdout",
     "output_type": "stream",
     "text": [
      "Updated list is:  [7, [2, 4, 5]]\n"
     ]
    }
   ],
   "source": [
    "#updating the first element\n",
    "List[0] = 7\n",
    "print(\"Updated list is: \", List)"
   ]
  },
  {
   "cell_type": "code",
   "execution_count": 21,
   "metadata": {},
   "outputs": [
    {
     "name": "stdout",
     "output_type": "stream",
     "text": [
      "Updated List is:  [7, [2, 4, 5], 2, 4, 9, 0]\n"
     ]
    }
   ],
   "source": [
    "#updating one or more elements of the list at once\n",
    "List[2:6] = [2, 4, 9, 0]\n",
    "print(\"Updated List is: \", List)"
   ]
  },
  {
   "cell_type": "code",
   "execution_count": 23,
   "metadata": {},
   "outputs": [
    {
     "name": "stdout",
     "output_type": "stream",
     "text": [
      "List before appending values is:  ['Hello', 'Good Morning']\n",
      "List after appending values is:  ['Hello', 'Good Morning', 'Python', 'Hi']\n"
     ]
    }
   ],
   "source": [
    "List = [\"Hello\", \"Good Morning\"]\n",
    "print(\"List before appending values is: \", List)\n",
    "List.append(\"Python\")\n",
    "List.append(\"Hi\")\n",
    "print(\"List after appending values is: \", List)"
   ]
  },
  {
   "cell_type": "code",
   "execution_count": 24,
   "metadata": {},
   "outputs": [
    {
     "name": "stdout",
     "output_type": "stream",
     "text": [
      "List before deleting 3rd element is:  [1, 2, 3, 4, 5, 6, 7, 8, 9]\n",
      "List after deleting 3rd element is:  [1, 2, 3, 5, 6, 7, 8, 9]\n",
      "List after deleting multiple elements is:  [1, 5, 6, 7, 8, 9]\n"
     ]
    }
   ],
   "source": [
    "List = [1, 2, 3, 4, 5, 6, 7, 8, 9]\n",
    "print(\"List before deleting 3rd element is: \", List)\n",
    "del List[3]\n",
    "print(\"List after deleting 3rd element is: \", List)\n",
    "del List[1:3]\n",
    "print(\"List after deleting multiple elements is: \", List)"
   ]
  },
  {
   "cell_type": "code",
   "execution_count": null,
   "metadata": {},
   "outputs": [],
   "source": []
  }
 ],
 "metadata": {
  "kernelspec": {
   "display_name": "Python 3",
   "language": "python",
   "name": "python3"
  },
  "language_info": {
   "codemirror_mode": {
    "name": "ipython",
    "version": 3
   },
   "file_extension": ".py",
   "mimetype": "text/x-python",
   "name": "python",
   "nbconvert_exporter": "python",
   "pygments_lexer": "ipython3",
   "version": "3.8.3"
  }
 },
 "nbformat": 4,
 "nbformat_minor": 4
}
