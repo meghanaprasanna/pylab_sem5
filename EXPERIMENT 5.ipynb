{
 "cells": [
  {
   "cell_type": "markdown",
   "metadata": {},
   "source": [
    "#### meghana prasanna\n",
    "#### 18btrcr027"
   ]
  },
  {
   "cell_type": "markdown",
   "metadata": {},
   "source": [
    "#### 5. Write python program to elaborate strings such as\n",
    "#### a. String declaration, traversing, slicing, concatenating, and sorting in a list"
   ]
  },
  {
   "cell_type": "code",
   "execution_count": 2,
   "metadata": {},
   "outputs": [
    {
     "name": "stdout",
     "output_type": "stream",
     "text": [
      "String Declaration Method 1 :  Data Science\n",
      "String Declaration Method 2 :  Jain University\n",
      "String Declaration Method 3 :  Knock Knock  \n",
      "                who is it\n",
      "String Declaration Method 4 :  its me mario\n"
     ]
    }
   ],
   "source": [
    "s_1 = 'Data Science'\n",
    "s_2 = \"Jain University\"\n",
    "s_3 = \"\"\"Knock Knock  \n",
    "                who is it\"\"\"\n",
    "s_4 = '''its me mario'''\n",
    "\n",
    "print(\"String Declaration Method 1 : \",s_1)\n",
    "print(\"String Declaration Method 2 : \",s_2)\n",
    "print(\"String Declaration Method 3 : \",s_3)\n",
    "print(\"String Declaration Method 4 : \",s_4)"
   ]
  },
  {
   "cell_type": "code",
   "execution_count": 3,
   "metadata": {},
   "outputs": [
    {
     "name": "stdout",
     "output_type": "stream",
     "text": [
      "E n t a n g l e m e n t "
     ]
    }
   ],
   "source": [
    "s_5 = \"Entanglement\"\n",
    "for i in s_5:\n",
    "    print(i,end=\" \")"
   ]
  },
  {
   "cell_type": "code",
   "execution_count": 4,
   "metadata": {},
   "outputs": [
    {
     "name": "stdout",
     "output_type": "stream",
     "text": [
      "DataScience\n"
     ]
    }
   ],
   "source": [
    "a = \"Data\"\n",
    "b = \"Science\"\n",
    "c = a + b\n",
    "print(c)"
   ]
  },
  {
   "cell_type": "code",
   "execution_count": 5,
   "metadata": {},
   "outputs": [
    {
     "name": "stdout",
     "output_type": "stream",
     "text": [
      "DataDataData\n"
     ]
    }
   ],
   "source": [
    "print(a*3)"
   ]
  },
  {
   "cell_type": "code",
   "execution_count": 6,
   "metadata": {},
   "outputs": [
    {
     "ename": "SyntaxError",
     "evalue": "unexpected EOF while parsing (<ipython-input-6-b455d145cf8f>, line 4)",
     "output_type": "error",
     "traceback": [
      "\u001b[0;36m  File \u001b[0;32m\"<ipython-input-6-b455d145cf8f>\"\u001b[0;36m, line \u001b[0;32m4\u001b[0m\n\u001b[0;31m    print(\"After sorting  : \",a\u001b[0m\n\u001b[0m                               ^\u001b[0m\n\u001b[0;31mSyntaxError\u001b[0m\u001b[0;31m:\u001b[0m unexpected EOF while parsing\n"
     ]
    }
   ],
   "source": [
    "a = [1,2,3,4,5,6]\n",
    "print(\"Before sorting : \",a)\n",
    "a.sort(reverse=True)\n",
    "print(\"After sorting  : \",a"
   ]
  },
  {
   "cell_type": "code",
   "execution_count": 8,
   "metadata": {},
   "outputs": [
    {
     "name": "stdout",
     "output_type": "stream",
     "text": [
      "['a', 'b', 'c', 'd', 'e', 'f']\n"
     ]
    }
   ],
   "source": [
    "s=(\"def\" \"abc\")\n",
    "p=sorted(s)\n",
    "print(p)"
   ]
  },
  {
   "cell_type": "code",
   "execution_count": 9,
   "metadata": {},
   "outputs": [
    {
     "name": "stdout",
     "output_type": "stream",
     "text": [
      "['data', 'science', 'Data', 'Science']\n",
      "Sorted words are:\n",
      "Data\n",
      "Science\n",
      "data\n",
      "science\n"
     ]
    }
   ],
   "source": [
    "my_str=\"data science Data Science\"\n",
    "\n",
    "words=my_str.split()\n",
    "print(words)\n",
    "\n",
    "words.sort()\n",
    "print(\"Sorted words are:\")\n",
    "for word in words:\n",
    "    print(word)"
   ]
  },
  {
   "cell_type": "code",
   "execution_count": 10,
   "metadata": {},
   "outputs": [
    {
     "name": "stdout",
     "output_type": "stream",
     "text": [
      "data\n",
      "data\n",
      "science\n",
      "science\n"
     ]
    }
   ],
   "source": [
    "my_str=\"data science Data Science\"\n",
    "my_str=my_str.casefold()\n",
    "\n",
    "words=my_str.split()\n",
    "words.sort()\n",
    "\n",
    "for word in words:\n",
    "    print(word)"
   ]
  },
  {
   "cell_type": "code",
   "execution_count": 11,
   "metadata": {},
   "outputs": [
    {
     "name": "stdout",
     "output_type": "stream",
     "text": [
      "str:   Python Programing\n",
      "str[5:7]= on\n",
      "str[-1]= g\n"
     ]
    }
   ],
   "source": [
    "str = \" Python Programing\"\n",
    "print(\"str: \",str)\n",
    "print(\"str[5:7]=\",str[5:7])\n",
    "print(\"str[-1]=\",str[-1])"
   ]
  },
  {
   "cell_type": "markdown",
   "metadata": {},
   "source": [
    "#### b. To check whether a string is palindrome or not; to remove punctuations from a string."
   ]
  },
  {
   "cell_type": "code",
   "execution_count": 12,
   "metadata": {},
   "outputs": [
    {
     "name": "stdout",
     "output_type": "stream",
     "text": [
      "Enter a string: 1001\n",
      "1001 is palindrome\n"
     ]
    }
   ],
   "source": [
    "my_str=input(\"Enter a string: \")\n",
    "\n",
    "my_str=my_str.casefold()\n",
    "rev_str=reversed(my_str)\n",
    "\n",
    "if list(my_str)==list(rev_str):\n",
    "    print(my_str,\"is palindrome\")\n",
    "else:\n",
    "    print(my_str,\"is not palindrome\")"
   ]
  },
  {
   "cell_type": "code",
   "execution_count": 13,
   "metadata": {},
   "outputs": [
    {
     "name": "stdout",
     "output_type": "stream",
     "text": [
      "Enter a string: D@!$%^#ata:)Scie$$%^&nce:(\n",
      "Without punctuations:  DataScience\n"
     ]
    }
   ],
   "source": [
    "punctuations = '''!()-[]{};:'\"\\,<>/?@#$%^&*_~ '''\n",
    "\n",
    "my_str=input(\"Enter a string: \")\n",
    "no_punct = \"\"\n",
    "for char in my_str:\n",
    "    if char not in punctuations:\n",
    "        no_punct=no_punct+char\n",
    "        \n",
    "print(\"Without punctuations: \",no_punct)"
   ]
  }
 ],
 "metadata": {
  "kernelspec": {
   "display_name": "Python 3",
   "language": "python",
   "name": "python3"
  },
  "language_info": {
   "codemirror_mode": {
    "name": "ipython",
    "version": 3
   },
   "file_extension": ".py",
   "mimetype": "text/x-python",
   "name": "python",
   "nbconvert_exporter": "python",
   "pygments_lexer": "ipython3",
   "version": "3.6.11"
  }
 },
 "nbformat": 4,
 "nbformat_minor": 4
}
